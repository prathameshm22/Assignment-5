{
  "nbformat": 4,
  "nbformat_minor": 0,
  "metadata": {
    "colab": {
      "provenance": []
    },
    "kernelspec": {
      "name": "python3",
      "display_name": "Python 3"
    },
    "language_info": {
      "name": "python"
    }
  },
  "cells": [
    {
      "cell_type": "markdown",
      "source": [
        "# Problems :"
      ],
      "metadata": {
        "id": "ZGBXsvCAcm4L"
      }
    },
    {
      "cell_type": "markdown",
      "source": [
        "1.Prepare a array of all zeros (3 rows and 4 columns)"
      ],
      "metadata": {
        "id": "cR1yv22kc4Z4"
      }
    },
    {
      "cell_type": "code",
      "execution_count": 1,
      "metadata": {
        "colab": {
          "base_uri": "https://localhost:8080/"
        },
        "id": "hbIDnOtJclqb",
        "outputId": "b650e304-1df7-43c4-885a-934eb09df9a4"
      },
      "outputs": [
        {
          "output_type": "stream",
          "name": "stdout",
          "text": [
            "[[0. 0. 0. 0.]\n",
            " [0. 0. 0. 0.]\n",
            " [0. 0. 0. 0.]]\n"
          ]
        }
      ],
      "source": [
        "import numpy as np\n",
        "\n",
        "array = np.zeros((3, 4))\n",
        "print(array)\n"
      ]
    },
    {
      "cell_type": "markdown",
      "source": [
        "2.Create an array with random input elements (shape - 2,3,5)"
      ],
      "metadata": {
        "id": "_69hRo4OdaI3"
      }
    },
    {
      "cell_type": "code",
      "source": [
        "import numpy as np\n",
        "shape = -2\n",
        "array = np.random.rand(2, 3, 5)\n",
        "print(array)\n"
      ],
      "metadata": {
        "colab": {
          "base_uri": "https://localhost:8080/"
        },
        "id": "ZFHIYrfpdAVc",
        "outputId": "1a006a93-367b-4d9a-8446-bb73ed83c6e7"
      },
      "execution_count": 5,
      "outputs": [
        {
          "output_type": "stream",
          "name": "stdout",
          "text": [
            "[[[0.02952788 0.35880852 0.32414215 0.5960757  0.33318152]\n",
            "  [0.42887389 0.34326993 0.68979886 0.61680605 0.45395037]\n",
            "  [0.74384604 0.01254645 0.4258268  0.14841717 0.65149528]]\n",
            "\n",
            " [[0.06552056 0.08857473 0.18077104 0.41833013 0.70850303]\n",
            "  [0.37298799 0.80709867 0.85347521 0.22986994 0.81051338]\n",
            "  [0.62477904 0.18013025 0.30378641 0.00570523 0.03606678]]]\n"
          ]
        }
      ]
    },
    {
      "cell_type": "markdown",
      "source": [
        "3.Create two arrays (numbers between 10 -20), First array shape= (2,3,5), Second array shape =(1,3,5).\n",
        "Now multiply them\n",
        "Find the min Axis= 1 wise\n",
        "Find the sum Axis= 0 wise\n"
      ],
      "metadata": {
        "id": "aeuBh1wZeuv-"
      }
    },
    {
      "cell_type": "code",
      "source": [
        "import numpy as np\n",
        "\n",
        "array1 = np.random.randint(10, 20, (2, 3, 5))\n",
        "array2 = np.random.randint(10, 20, (1, 3, 5))\n",
        "\n",
        "# Multiply arrays\n",
        "mult = array1 * array2\n",
        "\n",
        "# Find minimum along axis 1\n",
        "min_axis_1 = np.amin(mult, axis=1)\n",
        "print(\"Minimum along axis 1:\")\n",
        "print(min_axis_1)\n",
        "\n",
        "# Find sum along axis 0\n",
        "sum_axis_0 = np.sum(mult, axis=0)\n",
        "print(\"Sum along axis 0:\")\n",
        "print(sum_axis_0)\n"
      ],
      "metadata": {
        "colab": {
          "base_uri": "https://localhost:8080/"
        },
        "id": "L7qGJHOPdbsQ",
        "outputId": "9ea6d985-8625-462c-9aa2-b29d4caeaaf6"
      },
      "execution_count": 7,
      "outputs": [
        {
          "output_type": "stream",
          "name": "stdout",
          "text": [
            "Minimum along axis 1:\n",
            "[[165 120 208 160 168]\n",
            " [150 182 272 160 168]]\n",
            "Sum along axis 0:\n",
            "[[370 434 665 400 589]\n",
            " [315 310 540 462 336]\n",
            " [527 594 480 340 434]]\n"
          ]
        }
      ]
    }
  ]
}